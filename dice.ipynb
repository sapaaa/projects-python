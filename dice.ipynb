{
 "cells": [
  {
   "cell_type": "code",
   "execution_count": null,
   "id": "5ddf06c6",
   "metadata": {},
   "outputs": [],
   "source": [
    "import numpy as np\n",
    "import pandas as pd"
   ]
  },
  {
   "cell_type": "code",
   "execution_count": null,
   "id": "5407996b",
   "metadata": {},
   "outputs": [],
   "source": [
    "def dice():\n",
    "    i = np.random.randint(1,7)\n",
    "    if i == 1:\n",
    "        print(' =======\\n|       |\\n|   o   |\\n|       |\\n =======')\n",
    "    elif i == 2:\n",
    "        print(' =======\\n|   o   |\\n|       |\\n|   o   |\\n =======')\n",
    "    elif i == 3:\n",
    "        print(' =======\\n|   o   |\\n|   o   |\\n|   o   |\\n =======')\n",
    "    elif i == 4:\n",
    "        print(' =======\\n| o   o |\\n|       |\\n| o   o |\\n =======')\n",
    "    elif i == 5:\n",
    "        print(' =======\\n| o   o |\\n|   o   |\\n| o   o |\\n =======')\n",
    "    else:\n",
    "        print(' =======\\n| o   o |\\n| o   o |\\n| o   o |\\n =======')"
   ]
  },
  {
   "cell_type": "code",
   "execution_count": null,
   "id": "f0d9d836",
   "metadata": {
    "scrolled": true
   },
   "outputs": [],
   "source": [
    "x = 'x'\n",
    "while x == 'x':\n",
    "    dice()\n",
    "    x = input('press x to roll : ')"
   ]
  }
 ],
 "metadata": {
  "kernelspec": {
   "display_name": "Python 3 (ipykernel)",
   "language": "python",
   "name": "python3"
  },
  "language_info": {
   "codemirror_mode": {
    "name": "ipython",
    "version": 3
   },
   "file_extension": ".py",
   "mimetype": "text/x-python",
   "name": "python",
   "nbconvert_exporter": "python",
   "pygments_lexer": "ipython3",
   "version": "3.10.4"
  }
 },
 "nbformat": 4,
 "nbformat_minor": 5
}
